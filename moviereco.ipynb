{
 "cells": [
  {
   "cell_type": "code",
   "execution_count": 2,
   "metadata": {},
   "outputs": [],
   "source": [
    "import pandas as pd\n",
    "import re\n",
    "from imdb import IMDb\n",
    "from tqdm import tqdm\n",
    "import nltk\n",
    "from sklearn.feature_extraction.text import TfidfVectorizer\n",
    "from nltk.stem import WordNetLemmatizer\n",
    "import requests\n",
    "pd.options.display.max_columns = 49"
   ]
  },
  {
   "cell_type": "code",
   "execution_count": 3,
   "metadata": {},
   "outputs": [
    {
     "name": "stderr",
     "output_type": "stream",
     "text": [
      "C:\\Users\\pbren\\Anaconda3\\lib\\site-packages\\IPython\\core\\interactiveshell.py:3049: DtypeWarning: Columns (7) have mixed types. Specify dtype option on import or set low_memory=False.\n",
      "  interactivity=interactivity, compiler=compiler, result=result)\n"
     ]
    }
   ],
   "source": [
    "title = pd.read_csv('data.tsv', delimiter='\\t', encoding='utf-8')"
   ]
  },
  {
   "cell_type": "code",
   "execution_count": 4,
   "metadata": {},
   "outputs": [],
   "source": [
    "a = list(set(title[title.types == 'original'].titleId.apply(lambda t: re.sub('tt', '', t))))"
   ]
  },
  {
   "cell_type": "code",
   "execution_count": 5,
   "metadata": {},
   "outputs": [
    {
     "data": {
      "text/plain": [
       "'5619444'"
      ]
     },
     "execution_count": 5,
     "metadata": {},
     "output_type": "execute_result"
    }
   ],
   "source": [
    "a[0]"
   ]
  },
  {
   "cell_type": "code",
   "execution_count": 65,
   "metadata": {},
   "outputs": [],
   "source": [
    "# Define a function to perform both stemming and tokenization\n",
    "def tokenize_and_lem(text):\n",
    "    \n",
    "    # Tokenize by sentence, then by word\n",
    "    tokens = [word for word in nltk.word_tokenize(text)]\n",
    "    \n",
    "    # Filter out raw tokens to remove noise\n",
    "    filtered_tokens = [token for token in tokens if re.search('[a-zA-Z]', token)]\n",
    "    \n",
    "    # Stem the filtered_tokens\n",
    "    lems = [lemmer.lemmatize(token) for token in filtered_tokens]\n",
    "    \n",
    "    return lems"
   ]
  },
  {
   "cell_type": "code",
   "execution_count": 66,
   "metadata": {},
   "outputs": [],
   "source": [
    "# Create an English language SnowballStemmer object\n",
    "lemmer = WordNetLemmatizer()\n",
    "\n",
    "# Instantiate TfidfVectorizer object with stopwords and tokenizer\n",
    "# parameters for efficient processing of text\n",
    "tfidf_vectorizer = TfidfVectorizer()"
   ]
  },
  {
   "cell_type": "code",
   "execution_count": 69,
   "metadata": {},
   "outputs": [],
   "source": [
    "movies = pd.DataFrame({'title':list(title[title.types == 'original'].title)[-5000:], 'titleID':a[-5000:], 'plot':movies_plot})\n",
    "movies = movies[movies['plot'] != 'NaN']\n",
    "movies['plot'] = movies['plot'].apply(lambda t: t[0])\n",
    "movies.reset_index(inplace=True)"
   ]
  },
  {
   "cell_type": "code",
   "execution_count": 70,
   "metadata": {},
   "outputs": [
    {
     "name": "stdout",
     "output_type": "stream",
     "text": [
      "(3066, 19064)\n"
     ]
    }
   ],
   "source": [
    "# Fit and transform the tfidf_vectorizer with the \"plot\" of each movie\n",
    "# to create a vector representation of the plot summaries\n",
    "tfidf_matrix = tfidf_vectorizer.fit_transform([x for x in movies['plot']])\n",
    "\n",
    "print(tfidf_matrix.shape)"
   ]
  },
  {
   "cell_type": "code",
   "execution_count": 71,
   "metadata": {},
   "outputs": [],
   "source": [
    "# Import k-means to perform clusters\n",
    "from sklearn.cluster import KMeans\n",
    "\n",
    "# Create a KMeans object with 5 clusters and save as km\n",
    "km = KMeans(n_clusters=5)\n",
    "\n",
    "# Fit the k-means object with tfidf_matrix\n",
    "km.fit(tfidf_matrix)\n",
    "\n",
    "clusters = km.labels_.tolist()\n",
    "\n",
    "# Create a column cluster to denote the generated cluster for each movie\n",
    "movies['cluster'] = clusters"
   ]
  },
  {
   "cell_type": "code",
   "execution_count": 72,
   "metadata": {},
   "outputs": [],
   "source": [
    "# Import cosine_similarity to calculate similarity of movie plots\n",
    "from sklearn.metrics.pairwise import cosine_similarity\n",
    "\n",
    "# Calculate the similarity distance\n",
    "similarity_distance = 1 - cosine_similarity(tfidf_matrix)\n",
    "\n",
    "sim = pd.DataFrame(similarity_distance)\n",
    "\n",
    "res = list(sim.loc[181].sort_values(ascending=True).index[1:5])\n",
    "\n",
    "for r in res:\n",
    "    print(movies.title[r], movies.cluster[r])"
   ]
  },
  {
   "cell_type": "code",
   "execution_count": 80,
   "metadata": {},
   "outputs": [],
   "source": [
    "movies.to_csv('movies_5000.csv')"
   ]
  },
  {
   "cell_type": "code",
   "execution_count": null,
   "metadata": {},
   "outputs": [],
   "source": [
    "def find_movies(title, number):\n",
    "    ind = movies[movies['title'] == title].index[0]"
   ]
  },
  {
   "cell_type": "code",
   "execution_count": 1,
   "metadata": {},
   "outputs": [
    {
     "ename": "NameError",
     "evalue": "name 'movies' is not defined",
     "output_type": "error",
     "traceback": [
      "\u001b[1;31m---------------------------------------------------------------------------\u001b[0m",
      "\u001b[1;31mNameError\u001b[0m                                 Traceback (most recent call last)",
      "\u001b[1;32m<ipython-input-1-99354095a75d>\u001b[0m in \u001b[0;36m<module>\u001b[1;34m\u001b[0m\n\u001b[1;32m----> 1\u001b[1;33m \u001b[0mmovies\u001b[0m\u001b[1;33m.\u001b[0m\u001b[0mhead\u001b[0m\u001b[1;33m(\u001b[0m\u001b[1;33m)\u001b[0m\u001b[1;33m\u001b[0m\u001b[1;33m\u001b[0m\u001b[0m\n\u001b[0m",
      "\u001b[1;31mNameError\u001b[0m: name 'movies' is not defined"
     ]
    }
   ],
   "source": [
    "movies.head()"
   ]
  },
  {
   "cell_type": "markdown",
   "metadata": {},
   "source": [
    "## CLEAN PROJECT START"
   ]
  },
  {
   "cell_type": "code",
   "execution_count": 43,
   "metadata": {},
   "outputs": [],
   "source": [
    "import urllib.request as request\n",
    "import csv\n",
    "url = 'https://raw.githubusercontent.com/zacharyang/movies-project/master/data/clean/OMdb_mojo_clean.csv'\n",
    "#r = request.urlopen(url).read().decode('utf8').split(\"\\n\")\n",
    "#reader = csv.reader(r)\n",
    "#data = pd.read_csv(url, error_bad_lines=False)\n",
    "data = pd.read_csv('data.csv', error_bad_lines=False, index_col=0)\n",
    "data.drop_duplicates(subset='Plot', inplace=True)"
   ]
  },
  {
   "cell_type": "markdown",
   "metadata": {},
   "source": [
    "### Creating clean df"
   ]
  },
  {
   "cell_type": "code",
   "execution_count": 44,
   "metadata": {},
   "outputs": [],
   "source": [
    "data_processed = data.drop(['IMdb_ID','Plot','TMdb_id','Actors', 'DVD'], axis=1)"
   ]
  },
  {
   "cell_type": "code",
   "execution_count": 45,
   "metadata": {},
   "outputs": [
    {
     "data": {
      "text/html": [
       "<div>\n",
       "<style scoped>\n",
       "    .dataframe tbody tr th:only-of-type {\n",
       "        vertical-align: middle;\n",
       "    }\n",
       "\n",
       "    .dataframe tbody tr th {\n",
       "        vertical-align: top;\n",
       "    }\n",
       "\n",
       "    .dataframe thead th {\n",
       "        text-align: right;\n",
       "    }\n",
       "</style>\n",
       "<table border=\"1\" class=\"dataframe\">\n",
       "  <thead>\n",
       "    <tr style=\"text-align: right;\">\n",
       "      <th></th>\n",
       "      <th>Awards</th>\n",
       "      <th>BoxOffice</th>\n",
       "      <th>Country</th>\n",
       "      <th>Director</th>\n",
       "      <th>Genre</th>\n",
       "      <th>IMdb_score</th>\n",
       "      <th>Language</th>\n",
       "      <th>Metascore</th>\n",
       "      <th>Production</th>\n",
       "      <th>RT_score</th>\n",
       "      <th>Rated</th>\n",
       "      <th>Released</th>\n",
       "      <th>Runtime</th>\n",
       "      <th>Title</th>\n",
       "      <th>Type</th>\n",
       "      <th>Website</th>\n",
       "      <th>Year</th>\n",
       "      <th>actor_1</th>\n",
       "      <th>actor_2</th>\n",
       "      <th>awards</th>\n",
       "      <th>bo_year</th>\n",
       "      <th>bo_year_rank</th>\n",
       "      <th>director_1</th>\n",
       "      <th>director_2</th>\n",
       "      <th>domestic-gross</th>\n",
       "      <th>domestic-pct</th>\n",
       "      <th>imdbVotes</th>\n",
       "      <th>itunes_id</th>\n",
       "      <th>logBoxOffice</th>\n",
       "      <th>mojo_title</th>\n",
       "      <th>nominations</th>\n",
       "      <th>num_actor</th>\n",
       "      <th>num_director</th>\n",
       "      <th>num_genre</th>\n",
       "      <th>num_lang</th>\n",
       "      <th>oscar_noms</th>\n",
       "      <th>oscar_wins</th>\n",
       "      <th>overseas-gross</th>\n",
       "      <th>overseas-pct</th>\n",
       "      <th>search_strs</th>\n",
       "      <th>studio</th>\n",
       "      <th>titles</th>\n",
       "      <th>worldwide-gross</th>\n",
       "      <th>years</th>\n",
       "    </tr>\n",
       "  </thead>\n",
       "  <tbody>\n",
       "    <tr>\n",
       "      <th>0</th>\n",
       "      <td>1 win &amp; 1 nomination.</td>\n",
       "      <td>NaN</td>\n",
       "      <td>France</td>\n",
       "      <td>Georges Lautner</td>\n",
       "      <td>Action, Crime, Drama, Thriller</td>\n",
       "      <td>76.0</td>\n",
       "      <td>French</td>\n",
       "      <td>78.117</td>\n",
       "      <td>NaN</td>\n",
       "      <td>78.117</td>\n",
       "      <td>R</td>\n",
       "      <td>21 Oct 1981</td>\n",
       "      <td>108.0</td>\n",
       "      <td>The Professional</td>\n",
       "      <td>movie</td>\n",
       "      <td>NaN</td>\n",
       "      <td>1981</td>\n",
       "      <td>Jean-Paul Belmondo</td>\n",
       "      <td>Jean Desailly</td>\n",
       "      <td>1.0</td>\n",
       "      <td>2012.0</td>\n",
       "      <td>75.0</td>\n",
       "      <td>Georges Lautner</td>\n",
       "      <td>NaN</td>\n",
       "      <td>49100000.0</td>\n",
       "      <td>57.5</td>\n",
       "      <td>11220.0</td>\n",
       "      <td>270815716</td>\n",
       "      <td>NaN</td>\n",
       "      <td>The Possession</td>\n",
       "      <td>1.0</td>\n",
       "      <td>4</td>\n",
       "      <td>1</td>\n",
       "      <td>4</td>\n",
       "      <td>1.0</td>\n",
       "      <td>0.0</td>\n",
       "      <td>0.0</td>\n",
       "      <td>36300000.0</td>\n",
       "      <td>42.5</td>\n",
       "      <td>The+Possession</td>\n",
       "      <td>LGF</td>\n",
       "      <td>The Professional</td>\n",
       "      <td>85400000.0</td>\n",
       "      <td>1998</td>\n",
       "    </tr>\n",
       "    <tr>\n",
       "      <th>1</th>\n",
       "      <td>Won 1 Oscar. Another 31 wins &amp; 54 nominations.</td>\n",
       "      <td>363995937.0</td>\n",
       "      <td>UK, USA</td>\n",
       "      <td>Jon Favreau</td>\n",
       "      <td>Adventure, Drama, Family, Fantasy</td>\n",
       "      <td>74.0</td>\n",
       "      <td>English</td>\n",
       "      <td>77.000</td>\n",
       "      <td>Walt Disney Pictures</td>\n",
       "      <td>95.000</td>\n",
       "      <td>PG</td>\n",
       "      <td>15 Apr 2016</td>\n",
       "      <td>106.0</td>\n",
       "      <td>The Jungle Book</td>\n",
       "      <td>movie</td>\n",
       "      <td>http://movies.disney.com/the-jungle-book-2016</td>\n",
       "      <td>2016</td>\n",
       "      <td>Neel Sethi</td>\n",
       "      <td>Bill Murray</td>\n",
       "      <td>31.0</td>\n",
       "      <td>2016.0</td>\n",
       "      <td>5.0</td>\n",
       "      <td>Jon Favreau</td>\n",
       "      <td>NaN</td>\n",
       "      <td>364000000.0</td>\n",
       "      <td>37.7</td>\n",
       "      <td>231929.0</td>\n",
       "      <td>1098066757</td>\n",
       "      <td>8.561097</td>\n",
       "      <td>The Jungle Book 2016</td>\n",
       "      <td>54.0</td>\n",
       "      <td>4</td>\n",
       "      <td>1</td>\n",
       "      <td>4</td>\n",
       "      <td>1.0</td>\n",
       "      <td>0.0</td>\n",
       "      <td>1.0</td>\n",
       "      <td>602500000.0</td>\n",
       "      <td>62.3</td>\n",
       "      <td>The+Jungle+Book+2016</td>\n",
       "      <td>BV</td>\n",
       "      <td>The Jungle Book (2016)</td>\n",
       "      <td>966600000.0</td>\n",
       "      <td>2016</td>\n",
       "    </tr>\n",
       "  </tbody>\n",
       "</table>\n",
       "</div>"
      ],
      "text/plain": [
       "                                           Awards    BoxOffice  Country  \\\n",
       "0                           1 win & 1 nomination.          NaN   France   \n",
       "1  Won 1 Oscar. Another 31 wins & 54 nominations.  363995937.0  UK, USA   \n",
       "\n",
       "          Director                              Genre  IMdb_score Language  \\\n",
       "0  Georges Lautner     Action, Crime, Drama, Thriller        76.0   French   \n",
       "1      Jon Favreau  Adventure, Drama, Family, Fantasy        74.0  English   \n",
       "\n",
       "   Metascore            Production  RT_score Rated     Released  Runtime  \\\n",
       "0     78.117                   NaN    78.117     R  21 Oct 1981    108.0   \n",
       "1     77.000  Walt Disney Pictures    95.000    PG  15 Apr 2016    106.0   \n",
       "\n",
       "              Title   Type                                        Website  \\\n",
       "0  The Professional  movie                                            NaN   \n",
       "1   The Jungle Book  movie  http://movies.disney.com/the-jungle-book-2016   \n",
       "\n",
       "   Year             actor_1        actor_2  awards  bo_year  bo_year_rank  \\\n",
       "0  1981  Jean-Paul Belmondo  Jean Desailly     1.0   2012.0          75.0   \n",
       "1  2016          Neel Sethi    Bill Murray    31.0   2016.0           5.0   \n",
       "\n",
       "        director_1 director_2  domestic-gross  domestic-pct  imdbVotes  \\\n",
       "0  Georges Lautner        NaN      49100000.0          57.5    11220.0   \n",
       "1      Jon Favreau        NaN     364000000.0          37.7   231929.0   \n",
       "\n",
       "    itunes_id  logBoxOffice            mojo_title  nominations  num_actor  \\\n",
       "0   270815716           NaN        The Possession          1.0          4   \n",
       "1  1098066757      8.561097  The Jungle Book 2016         54.0          4   \n",
       "\n",
       "   num_director  num_genre  num_lang  oscar_noms  oscar_wins  overseas-gross  \\\n",
       "0             1          4       1.0         0.0         0.0      36300000.0   \n",
       "1             1          4       1.0         0.0         1.0     602500000.0   \n",
       "\n",
       "   overseas-pct           search_strs studio                  titles  \\\n",
       "0          42.5        The+Possession    LGF        The Professional   \n",
       "1          62.3  The+Jungle+Book+2016     BV  The Jungle Book (2016)   \n",
       "\n",
       "   worldwide-gross  years  \n",
       "0       85400000.0   1998  \n",
       "1      966600000.0   2016  "
      ]
     },
     "execution_count": 45,
     "metadata": {},
     "output_type": "execute_result"
    }
   ],
   "source": [
    "data_processed.head(2)"
   ]
  },
  {
   "cell_type": "markdown",
   "metadata": {},
   "source": [
    "### Processing awards"
   ]
  },
  {
   "cell_type": "code",
   "execution_count": 46,
   "metadata": {},
   "outputs": [],
   "source": [
    "def extract_nom(sent, list_oscar, list_win, list_nom):\n",
    "    \"\"\"\n",
    "    Extract oscar, win and nominations number\n",
    "    \"\"\"\n",
    "    if type(sent) == float:\n",
    "        list_oscar.append(0)\n",
    "        list_win.append(0)\n",
    "        list_nom.append(0)\n",
    "    else:\n",
    "        result_oscar = re.findall('[0-9]+ Oscar', sent)\n",
    "        if len(result_oscar)>0:\n",
    "            list_oscar.append(re.findall('[0-9]+', result_oscar[0])[0])\n",
    "        else:\n",
    "            list_oscar.append(0)\n",
    "        result_win = re.findall('[0-9]+ win', sent)\n",
    "        if len(result_win)>0:\n",
    "            list_win.append(re.findall('[0-9]+', result_win[0])[0])\n",
    "        else:\n",
    "            list_win.append(0)\n",
    "        result_nom = re.findall('[0-9]+ nom', sent)\n",
    "        if len(result_nom)>0:\n",
    "            list_nom.append(re.findall('[0-9]+', result_nom[0])[0])\n",
    "        else:\n",
    "            list_nom.append(0)\n",
    "    return list_oscar, list_win, list_nom"
   ]
  },
  {
   "cell_type": "code",
   "execution_count": 47,
   "metadata": {},
   "outputs": [],
   "source": [
    "oscar = []\n",
    "win = []\n",
    "nom = []\n",
    "\n",
    "for t in data_processed.Awards:\n",
    "    extract_nom(t, oscar, win, nom)\n",
    "\n",
    "data_processed.drop(['Awards'], axis=1, inplace=True)\n",
    "data_processed['Oscar'] = oscar\n",
    "data_processed['Win'] = win\n",
    "data_processed['Nom'] = nom"
   ]
  },
  {
   "cell_type": "markdown",
   "metadata": {},
   "source": [
    "### Processing Genre"
   ]
  },
  {
   "cell_type": "code",
   "execution_count": 48,
   "metadata": {},
   "outputs": [],
   "source": [
    "genres = [re.findall('[a-zA-Z-a-zA-Z]+',t) for t in data_processed.Genre]"
   ]
  },
  {
   "cell_type": "code",
   "execution_count": 49,
   "metadata": {},
   "outputs": [],
   "source": [
    "genre = []\n",
    "for t in genres:\n",
    "    for z in t:\n",
    "        genre.append(z)\n",
    "genre = list(set(genre))"
   ]
  },
  {
   "cell_type": "code",
   "execution_count": 50,
   "metadata": {},
   "outputs": [],
   "source": [
    "from sklearn.preprocessing import MultiLabelBinarizer\n",
    "\n",
    "mlb = MultiLabelBinarizer()\n",
    "\n",
    "s = genres\n",
    "test = pd.DataFrame(mlb.fit_transform(s), columns=mlb.classes_, index=data_processed.index)"
   ]
  },
  {
   "cell_type": "code",
   "execution_count": 51,
   "metadata": {},
   "outputs": [],
   "source": [
    "data_processed = data_processed.join(test)"
   ]
  },
  {
   "cell_type": "markdown",
   "metadata": {},
   "source": [
    "### Processing Released"
   ]
  },
  {
   "cell_type": "code",
   "execution_count": 52,
   "metadata": {},
   "outputs": [],
   "source": [
    "date = []\n",
    "for t in data_processed['Released']:\n",
    "    try:\n",
    "        date.append(int(re.findall('[0-9]{4}', t)[0]))\n",
    "    except:\n",
    "        date.append(t)"
   ]
  },
  {
   "cell_type": "code",
   "execution_count": 53,
   "metadata": {},
   "outputs": [],
   "source": [
    "data_processed['Released'] = date"
   ]
  },
  {
   "cell_type": "markdown",
   "metadata": {},
   "source": [
    "### Processing non numerical columns"
   ]
  },
  {
   "cell_type": "code",
   "execution_count": 54,
   "metadata": {},
   "outputs": [],
   "source": [
    "from sklearn.cluster import KMeans\n",
    "from sklearn.preprocessing import OneHotEncoder"
   ]
  },
  {
   "cell_type": "code",
   "execution_count": 55,
   "metadata": {},
   "outputs": [
    {
     "data": {
      "text/plain": [
       "Index(['BoxOffice', 'Country', 'Director', 'Genre', 'IMdb_score', 'Language',\n",
       "       'Metascore', 'Production', 'RT_score', 'Rated', 'Released', 'Runtime',\n",
       "       'Title', 'Type', 'Website', 'Year', 'actor_1', 'actor_2', 'awards',\n",
       "       'bo_year', 'bo_year_rank', 'director_1', 'director_2', 'domestic-gross',\n",
       "       'domestic-pct', 'imdbVotes', 'itunes_id', 'logBoxOffice', 'mojo_title',\n",
       "       'nominations', 'num_actor', 'num_director', 'num_genre', 'num_lang',\n",
       "       'oscar_noms', 'oscar_wins', 'overseas-gross', 'overseas-pct',\n",
       "       'search_strs', 'studio', 'titles', 'worldwide-gross', 'years', 'Oscar',\n",
       "       'Win', 'Nom', 'Action', 'Adventure', 'Animation', 'Biography', 'Comedy',\n",
       "       'Crime', 'Documentary', 'Drama', 'Family', 'Fantasy', 'History',\n",
       "       'Horror', 'Music', 'Musical', 'Mystery', 'Romance', 'Sci-Fi', 'Short',\n",
       "       'Sport', 'Thriller', 'War', 'Western'],\n",
       "      dtype='object')"
      ]
     },
     "execution_count": 55,
     "metadata": {},
     "output_type": "execute_result"
    }
   ],
   "source": [
    "data_processed.columns"
   ]
  },
  {
   "cell_type": "code",
   "execution_count": 56,
   "metadata": {},
   "outputs": [],
   "source": [
    "data_processed[['Oscar', 'Win', 'Nom']] = data_processed[['Oscar', 'Win', 'Nom']].astype(int)"
   ]
  },
  {
   "cell_type": "code",
   "execution_count": 57,
   "metadata": {},
   "outputs": [],
   "source": [
    "data_processed = pd.get_dummies(data_processed)"
   ]
  },
  {
   "cell_type": "code",
   "execution_count": 58,
   "metadata": {},
   "outputs": [],
   "source": [
    "#data_processed.drop(['Title', 'Genre'], axis=1, inplace=True)\n",
    "#data_processed.drop(['Genre'], axis=1, inplace=True)\n",
    "data_processed.fillna(0, inplace=True)"
   ]
  },
  {
   "cell_type": "code",
   "execution_count": 59,
   "metadata": {},
   "outputs": [],
   "source": [
    "non_num = list(data_processed.select_dtypes(exclude=[float, 'int64', 'int32']).dtypes.index)\n",
    "data_le = data_processed[non_num]\n",
    "le = OneHotEncoder(categories='auto')\n",
    "#le.fit_transform(data_le)"
   ]
  },
  {
   "cell_type": "code",
   "execution_count": 60,
   "metadata": {},
   "outputs": [
    {
     "data": {
      "text/plain": [
       "OneHotEncoder(categorical_features=None, categories='auto',\n",
       "       dtype=<class 'numpy.float64'>, handle_unknown='error',\n",
       "       n_values=None, sparse=True)"
      ]
     },
     "execution_count": 60,
     "metadata": {},
     "output_type": "execute_result"
    }
   ],
   "source": [
    "le.fit(data_processed)"
   ]
  },
  {
   "cell_type": "code",
   "execution_count": 61,
   "metadata": {},
   "outputs": [
    {
     "data": {
      "text/plain": [
       "KMeans(algorithm='auto', copy_x=True, init='k-means++', max_iter=300,\n",
       "    n_clusters=7, n_init=10, n_jobs=None, precompute_distances='auto',\n",
       "    random_state=None, tol=0.0001, verbose=0)"
      ]
     },
     "execution_count": 61,
     "metadata": {},
     "output_type": "execute_result"
    }
   ],
   "source": [
    "km = KMeans(n_clusters=7)\n",
    "km.fit(data_processed)"
   ]
  },
  {
   "cell_type": "code",
   "execution_count": 62,
   "metadata": {},
   "outputs": [],
   "source": [
    "data_processed['km_result'] = list(km.labels_)"
   ]
  },
  {
   "cell_type": "code",
   "execution_count": 63,
   "metadata": {},
   "outputs": [],
   "source": [
    "data['results'] = list(km.labels_)"
   ]
  },
  {
   "cell_type": "code",
   "execution_count": 64,
   "metadata": {},
   "outputs": [],
   "source": [
    "tfidf_vectorizer = TfidfVectorizer()"
   ]
  },
  {
   "cell_type": "code",
   "execution_count": 65,
   "metadata": {},
   "outputs": [],
   "source": [
    "tfidf_matrix = tfidf_vectorizer.fit_transform([x for x in collec['']])"
   ]
  },
  {
   "cell_type": "code",
   "execution_count": 66,
   "metadata": {},
   "outputs": [],
   "source": [
    "# Import k-means to perform clusters\n",
    "from sklearn.cluster import KMeans\n",
    "\n",
    "# Create a KMeans object with 5 clusters and save as km\n",
    "km = KMeans(n_clusters=5)\n",
    "\n",
    "# Fit the k-means object with tfidf_matrix\n",
    "km.fit(tfidf_matrix)\n",
    "\n",
    "clusters = km.labels_.tolist()\n",
    "\n",
    "# Create a column cluster to denote the generated cluster for each movie\n",
    "data['cluster'] = clusters"
   ]
  },
  {
   "cell_type": "code",
   "execution_count": 72,
   "metadata": {},
   "outputs": [
    {
     "data": {
      "text/plain": [
       "(477, 51)"
      ]
     },
     "execution_count": 72,
     "metadata": {},
     "output_type": "execute_result"
    }
   ],
   "source": [
    "data.shape"
   ]
  },
  {
   "cell_type": "code",
   "execution_count": 70,
   "metadata": {},
   "outputs": [
    {
     "name": "stdout",
     "output_type": "stream",
     "text": [
      "Road House (1989) 4 2\n",
      "The Equalizer 2 0 0\n",
      "The Fast and the Furious: Tokyo Drift 0 2\n",
      "Rampage (2018) 0 0\n"
     ]
    },
    {
     "ename": "KeyError",
     "evalue": "371",
     "output_type": "error",
     "traceback": [
      "\u001b[1;31m---------------------------------------------------------------------------\u001b[0m",
      "\u001b[1;31mKeyError\u001b[0m                                  Traceback (most recent call last)",
      "\u001b[1;32m<ipython-input-70-2ed2015ca00e>\u001b[0m in \u001b[0;36m<module>\u001b[1;34m\u001b[0m\n\u001b[0;32m     10\u001b[0m \u001b[1;33m\u001b[0m\u001b[0m\n\u001b[0;32m     11\u001b[0m \u001b[1;32mfor\u001b[0m \u001b[0mr\u001b[0m \u001b[1;32min\u001b[0m \u001b[0mres\u001b[0m\u001b[1;33m:\u001b[0m\u001b[1;33m\u001b[0m\u001b[1;33m\u001b[0m\u001b[0m\n\u001b[1;32m---> 12\u001b[1;33m     \u001b[0mprint\u001b[0m\u001b[1;33m(\u001b[0m\u001b[0mdata\u001b[0m\u001b[1;33m.\u001b[0m\u001b[0mtitles\u001b[0m\u001b[1;33m[\u001b[0m\u001b[0mr\u001b[0m\u001b[1;33m]\u001b[0m\u001b[1;33m,\u001b[0m \u001b[0mdata\u001b[0m\u001b[1;33m.\u001b[0m\u001b[0mcluster\u001b[0m\u001b[1;33m[\u001b[0m\u001b[0mr\u001b[0m\u001b[1;33m]\u001b[0m\u001b[1;33m,\u001b[0m \u001b[0mdata\u001b[0m\u001b[1;33m.\u001b[0m\u001b[0mresults\u001b[0m\u001b[1;33m[\u001b[0m\u001b[0mr\u001b[0m\u001b[1;33m]\u001b[0m\u001b[1;33m)\u001b[0m\u001b[1;33m\u001b[0m\u001b[1;33m\u001b[0m\u001b[0m\n\u001b[0m",
      "\u001b[1;32m~\\Anaconda3\\lib\\site-packages\\pandas\\core\\series.py\u001b[0m in \u001b[0;36m__getitem__\u001b[1;34m(self, key)\u001b[0m\n\u001b[0;32m    866\u001b[0m         \u001b[0mkey\u001b[0m \u001b[1;33m=\u001b[0m \u001b[0mcom\u001b[0m\u001b[1;33m.\u001b[0m\u001b[0mapply_if_callable\u001b[0m\u001b[1;33m(\u001b[0m\u001b[0mkey\u001b[0m\u001b[1;33m,\u001b[0m \u001b[0mself\u001b[0m\u001b[1;33m)\u001b[0m\u001b[1;33m\u001b[0m\u001b[1;33m\u001b[0m\u001b[0m\n\u001b[0;32m    867\u001b[0m         \u001b[1;32mtry\u001b[0m\u001b[1;33m:\u001b[0m\u001b[1;33m\u001b[0m\u001b[1;33m\u001b[0m\u001b[0m\n\u001b[1;32m--> 868\u001b[1;33m             \u001b[0mresult\u001b[0m \u001b[1;33m=\u001b[0m \u001b[0mself\u001b[0m\u001b[1;33m.\u001b[0m\u001b[0mindex\u001b[0m\u001b[1;33m.\u001b[0m\u001b[0mget_value\u001b[0m\u001b[1;33m(\u001b[0m\u001b[0mself\u001b[0m\u001b[1;33m,\u001b[0m \u001b[0mkey\u001b[0m\u001b[1;33m)\u001b[0m\u001b[1;33m\u001b[0m\u001b[1;33m\u001b[0m\u001b[0m\n\u001b[0m\u001b[0;32m    869\u001b[0m \u001b[1;33m\u001b[0m\u001b[0m\n\u001b[0;32m    870\u001b[0m             \u001b[1;32mif\u001b[0m \u001b[1;32mnot\u001b[0m \u001b[0mis_scalar\u001b[0m\u001b[1;33m(\u001b[0m\u001b[0mresult\u001b[0m\u001b[1;33m)\u001b[0m\u001b[1;33m:\u001b[0m\u001b[1;33m\u001b[0m\u001b[1;33m\u001b[0m\u001b[0m\n",
      "\u001b[1;32m~\\Anaconda3\\lib\\site-packages\\pandas\\core\\indexes\\base.py\u001b[0m in \u001b[0;36mget_value\u001b[1;34m(self, series, key)\u001b[0m\n\u001b[0;32m   4373\u001b[0m         \u001b[1;32mtry\u001b[0m\u001b[1;33m:\u001b[0m\u001b[1;33m\u001b[0m\u001b[1;33m\u001b[0m\u001b[0m\n\u001b[0;32m   4374\u001b[0m             return self._engine.get_value(s, k,\n\u001b[1;32m-> 4375\u001b[1;33m                                           tz=getattr(series.dtype, 'tz', None))\n\u001b[0m\u001b[0;32m   4376\u001b[0m         \u001b[1;32mexcept\u001b[0m \u001b[0mKeyError\u001b[0m \u001b[1;32mas\u001b[0m \u001b[0me1\u001b[0m\u001b[1;33m:\u001b[0m\u001b[1;33m\u001b[0m\u001b[1;33m\u001b[0m\u001b[0m\n\u001b[0;32m   4377\u001b[0m             \u001b[1;32mif\u001b[0m \u001b[0mlen\u001b[0m\u001b[1;33m(\u001b[0m\u001b[0mself\u001b[0m\u001b[1;33m)\u001b[0m \u001b[1;33m>\u001b[0m \u001b[1;36m0\u001b[0m \u001b[1;32mand\u001b[0m \u001b[1;33m(\u001b[0m\u001b[0mself\u001b[0m\u001b[1;33m.\u001b[0m\u001b[0mholds_integer\u001b[0m\u001b[1;33m(\u001b[0m\u001b[1;33m)\u001b[0m \u001b[1;32mor\u001b[0m \u001b[0mself\u001b[0m\u001b[1;33m.\u001b[0m\u001b[0mis_boolean\u001b[0m\u001b[1;33m(\u001b[0m\u001b[1;33m)\u001b[0m\u001b[1;33m)\u001b[0m\u001b[1;33m:\u001b[0m\u001b[1;33m\u001b[0m\u001b[1;33m\u001b[0m\u001b[0m\n",
      "\u001b[1;32mpandas/_libs/index.pyx\u001b[0m in \u001b[0;36mpandas._libs.index.IndexEngine.get_value\u001b[1;34m()\u001b[0m\n",
      "\u001b[1;32mpandas/_libs/index.pyx\u001b[0m in \u001b[0;36mpandas._libs.index.IndexEngine.get_value\u001b[1;34m()\u001b[0m\n",
      "\u001b[1;32mpandas/_libs/index.pyx\u001b[0m in \u001b[0;36mpandas._libs.index.IndexEngine.get_loc\u001b[1;34m()\u001b[0m\n",
      "\u001b[1;32mpandas/_libs/hashtable_class_helper.pxi\u001b[0m in \u001b[0;36mpandas._libs.hashtable.Int64HashTable.get_item\u001b[1;34m()\u001b[0m\n",
      "\u001b[1;32mpandas/_libs/hashtable_class_helper.pxi\u001b[0m in \u001b[0;36mpandas._libs.hashtable.Int64HashTable.get_item\u001b[1;34m()\u001b[0m\n",
      "\u001b[1;31mKeyError\u001b[0m: 371"
     ]
    }
   ],
   "source": [
    "# Import cosine_similarity to calculate similarity of movie plots\n",
    "from sklearn.metrics.pairwise import cosine_similarity\n",
    "\n",
    "# Calculate the similarity distance\n",
    "similarity_distance = 1 - cosine_similarity(tfidf_matrix)\n",
    "\n",
    "sim = pd.DataFrame(similarity_distance)\n",
    "\n",
    "res = list(sim.loc[186].sort_values(ascending=True).index[1:10])\n",
    "\n",
    "for r in res:\n",
    "    print(data.titles[r], data.cluster[r], data.results[r])"
   ]
  },
  {
   "cell_type": "code",
   "execution_count": 81,
   "metadata": {},
   "outputs": [
    {
     "data": {
      "text/plain": [
       "'The Meg'"
      ]
     },
     "execution_count": 81,
     "metadata": {},
     "output_type": "execute_result"
    }
   ],
   "source": [
    "data.titles[186]"
   ]
  },
  {
   "cell_type": "code",
   "execution_count": 69,
   "metadata": {},
   "outputs": [
    {
     "ename": "NameError",
     "evalue": "name 'sim' is not defined",
     "output_type": "error",
     "traceback": [
      "\u001b[1;31m---------------------------------------------------------------------------\u001b[0m",
      "\u001b[1;31mNameError\u001b[0m                                 Traceback (most recent call last)",
      "\u001b[1;32m<ipython-input-69-8f261adf1636>\u001b[0m in \u001b[0;36m<module>\u001b[1;34m\u001b[0m\n\u001b[1;32m----> 1\u001b[1;33m \u001b[0msim\u001b[0m\u001b[1;33m.\u001b[0m\u001b[0mshape\u001b[0m\u001b[1;33m\u001b[0m\u001b[1;33m\u001b[0m\u001b[0m\n\u001b[0m",
      "\u001b[1;31mNameError\u001b[0m: name 'sim' is not defined"
     ]
    }
   ],
   "source": []
  },
  {
   "cell_type": "code",
   "execution_count": 73,
   "metadata": {},
   "outputs": [],
   "source": [
    "sim.to_csv('sim.csv')"
   ]
  },
  {
   "cell_type": "code",
   "execution_count": 74,
   "metadata": {},
   "outputs": [],
   "source": [
    "data.to_csv('data_final.csv')"
   ]
  },
  {
   "cell_type": "code",
   "execution_count": null,
   "metadata": {},
   "outputs": [],
   "source": []
  },
  {
   "cell_type": "code",
   "execution_count": 4,
   "metadata": {},
   "outputs": [],
   "source": [
    "import requests\n",
    "import ast"
   ]
  },
  {
   "cell_type": "code",
   "execution_count": 108,
   "metadata": {},
   "outputs": [],
   "source": [
    "a = requests.get('https://api.themoviedb.org/searcg/movie/2?api_key=cc1ffc8a914b190fcb9a809741d325da')"
   ]
  },
  {
   "cell_type": "code",
   "execution_count": 120,
   "metadata": {},
   "outputs": [
    {
     "data": {
      "text/plain": [
       "'Le clown et ses chiens'"
      ]
     },
     "execution_count": 120,
     "metadata": {},
     "output_type": "execute_result"
    }
   ],
   "source": [
    "df['originalTitle'][1]"
   ]
  },
  {
   "cell_type": "code",
   "execution_count": 121,
   "metadata": {},
   "outputs": [],
   "source": [
    "a = requests.get('https://api.themoviedb.org/3/search/movie?api_key=cc1ffc8a914b190fcb9a809741d325da&query=Le clown et ses chiens')"
   ]
  },
  {
   "cell_type": "code",
   "execution_count": 122,
   "metadata": {},
   "outputs": [
    {
     "data": {
      "text/plain": [
       "'{\"page\":1,\"total_results\":1,\"total_pages\":1,\"results\":[{\"popularity\":0.6,\"id\":16613,\"video\":false,\"vote_count\":2,\"vote_average\":4,\"title\":\"The Clown and His Dogs\",\"release_date\":\"1892-10-27\",\"original_language\":\"en\",\"original_title\":\"Le Clown et ses chiens\",\"genre_ids\":[16],\"backdrop_path\":null,\"adult\":false,\"overview\":\"Short film of 300 individually painted images.\",\"poster_path\":\"\\\\/qiJFROs4PDFGnIFYoSePaCN1it6.jpg\"}]}'"
      ]
     },
     "execution_count": 122,
     "metadata": {},
     "output_type": "execute_result"
    }
   ],
   "source": [
    "a.text"
   ]
  },
  {
   "cell_type": "code",
   "execution_count": 130,
   "metadata": {},
   "outputs": [],
   "source": [
    "import json\n",
    "s = a.text\n",
    "json_acceptable_string = s.replace(\"'\", \"\\\"\")\n",
    "d = json.loads(json_acceptable_string)"
   ]
  },
  {
   "cell_type": "code",
   "execution_count": 132,
   "metadata": {},
   "outputs": [],
   "source": [
    "d = d['results'][0]"
   ]
  },
  {
   "cell_type": "code",
   "execution_count": 133,
   "metadata": {},
   "outputs": [
    {
     "data": {
      "text/plain": [
       "{'popularity': 0.6,\n",
       " 'id': 16613,\n",
       " 'video': False,\n",
       " 'vote_count': 2,\n",
       " 'vote_average': 4,\n",
       " 'title': 'The Clown and His Dogs',\n",
       " 'release_date': '1892-10-27',\n",
       " 'original_language': 'en',\n",
       " 'original_title': 'Le Clown et ses chiens',\n",
       " 'genre_ids': [16],\n",
       " 'backdrop_path': None,\n",
       " 'adult': False,\n",
       " 'overview': 'Short film of 300 individually painted images.',\n",
       " 'poster_path': '/qiJFROs4PDFGnIFYoSePaCN1it6.jpg'}"
      ]
     },
     "execution_count": 133,
     "metadata": {},
     "output_type": "execute_result"
    }
   ],
   "source": [
    "d"
   ]
  },
  {
   "cell_type": "code",
   "execution_count": 134,
   "metadata": {},
   "outputs": [
    {
     "ename": "KeyError",
     "evalue": "'tagline'",
     "output_type": "error",
     "traceback": [
      "\u001b[1;31m---------------------------------------------------------------------------\u001b[0m",
      "\u001b[1;31mKeyError\u001b[0m                                  Traceback (most recent call last)",
      "\u001b[1;32m<ipython-input-134-6a4be9afb1f8>\u001b[0m in \u001b[0;36m<module>\u001b[1;34m\u001b[0m\n\u001b[1;32m----> 1\u001b[1;33m \u001b[0md\u001b[0m\u001b[1;33m[\u001b[0m\u001b[1;34m'original_title'\u001b[0m\u001b[1;33m]\u001b[0m\u001b[1;33m,\u001b[0m \u001b[0md\u001b[0m\u001b[1;33m[\u001b[0m\u001b[1;34m'overview'\u001b[0m\u001b[1;33m]\u001b[0m\u001b[1;33m,\u001b[0m \u001b[0md\u001b[0m\u001b[1;33m[\u001b[0m\u001b[1;34m'original_language'\u001b[0m\u001b[1;33m]\u001b[0m\u001b[1;33m,\u001b[0m \u001b[0md\u001b[0m\u001b[1;33m[\u001b[0m\u001b[1;34m'release_date'\u001b[0m\u001b[1;33m]\u001b[0m\u001b[1;33m,\u001b[0m \u001b[0md\u001b[0m\u001b[1;33m[\u001b[0m\u001b[1;34m'tagline'\u001b[0m\u001b[1;33m]\u001b[0m\u001b[1;33m,\u001b[0m \u001b[0md\u001b[0m\u001b[1;33m[\u001b[0m\u001b[1;34m'id'\u001b[0m\u001b[1;33m]\u001b[0m\u001b[1;33m\u001b[0m\u001b[1;33m\u001b[0m\u001b[0m\n\u001b[0m",
      "\u001b[1;31mKeyError\u001b[0m: 'tagline'"
     ]
    }
   ],
   "source": [
    "d['original_title'], d['overview'], d['original_language'], d['release_date'], d['tagline'], d['id'], d['popularity']"
   ]
  },
  {
   "cell_type": "code",
   "execution_count": 4,
   "metadata": {},
   "outputs": [
    {
     "name": "stderr",
     "output_type": "stream",
     "text": [
      "C:\\Users\\pbren\\Anaconda3\\lib\\site-packages\\IPython\\core\\interactiveshell.py:3049: DtypeWarning: Columns (5) have mixed types. Specify dtype option on import or set low_memory=False.\n",
      "  interactivity=interactivity, compiler=compiler, result=result)\n"
     ]
    }
   ],
   "source": [
    "df = pd.read_csv('data.tsv', sep='\\t')"
   ]
  },
  {
   "cell_type": "code",
   "execution_count": 49,
   "metadata": {},
   "outputs": [],
   "source": [
    "original_title = []\n",
    "overview = []\n",
    "original_language = []\n",
    "release_date = []\n",
    "tagline = []\n",
    "movie_id = []\n",
    "popularity = []"
   ]
  },
  {
   "cell_type": "code",
   "execution_count": 27,
   "metadata": {},
   "outputs": [],
   "source": [
    "import json"
   ]
  },
  {
   "cell_type": "code",
   "execution_count": 5,
   "metadata": {},
   "outputs": [],
   "source": [
    "df_movie = df[df.titleType == \"movie\"]\n",
    "df_movie.reset_index(drop=True, inplace=True)"
   ]
  },
  {
   "cell_type": "code",
   "execution_count": 6,
   "metadata": {},
   "outputs": [],
   "source": [
    "year = [0 if t == \"\\\\N\" else t for t in df_movie.startYear]"
   ]
  },
  {
   "cell_type": "code",
   "execution_count": 7,
   "metadata": {},
   "outputs": [
    {
     "name": "stderr",
     "output_type": "stream",
     "text": [
      "C:\\Users\\pbren\\Anaconda3\\lib\\site-packages\\ipykernel_launcher.py:1: SettingWithCopyWarning: \n",
      "A value is trying to be set on a copy of a slice from a DataFrame.\n",
      "Try using .loc[row_indexer,col_indexer] = value instead\n",
      "\n",
      "See the caveats in the documentation: http://pandas.pydata.org/pandas-docs/stable/indexing.html#indexing-view-versus-copy\n",
      "  \"\"\"Entry point for launching an IPython kernel.\n"
     ]
    }
   ],
   "source": [
    "df_movie['startYear'] = year"
   ]
  },
  {
   "cell_type": "code",
   "execution_count": 8,
   "metadata": {},
   "outputs": [
    {
     "name": "stderr",
     "output_type": "stream",
     "text": [
      "C:\\Users\\pbren\\Anaconda3\\lib\\site-packages\\ipykernel_launcher.py:1: SettingWithCopyWarning: \n",
      "A value is trying to be set on a copy of a slice from a DataFrame.\n",
      "Try using .loc[row_indexer,col_indexer] = value instead\n",
      "\n",
      "See the caveats in the documentation: http://pandas.pydata.org/pandas-docs/stable/indexing.html#indexing-view-versus-copy\n",
      "  \"\"\"Entry point for launching an IPython kernel.\n"
     ]
    }
   ],
   "source": [
    "df_movie['startYear'] = df_movie['startYear'].astype(int)\n",
    "df_recmovie = df_movie[df_movie['startYear'] >= 1980]"
   ]
  },
  {
   "cell_type": "code",
   "execution_count": 9,
   "metadata": {},
   "outputs": [
    {
     "name": "stderr",
     "output_type": "stream",
     "text": [
      "C:\\Users\\pbren\\Anaconda3\\lib\\site-packages\\ipykernel_launcher.py:1: SettingWithCopyWarning: \n",
      "A value is trying to be set on a copy of a slice from a DataFrame\n",
      "\n",
      "See the caveats in the documentation: http://pandas.pydata.org/pandas-docs/stable/indexing.html#indexing-view-versus-copy\n",
      "  \"\"\"Entry point for launching an IPython kernel.\n"
     ]
    }
   ],
   "source": [
    "df_recmovie.sort_values(by='startYear', ascending=False, inplace=True)"
   ]
  },
  {
   "cell_type": "code",
   "execution_count": 10,
   "metadata": {},
   "outputs": [
    {
     "name": "stderr",
     "output_type": "stream",
     "text": [
      "100%|██████████████████████████████████████████████████████████████████████████| 10000/10000 [1:12:10<00:00,  2.35it/s]\n"
     ]
    }
   ],
   "source": [
    "for t in tqdm(df_recmovie['originalTitle'][:10000]):\n",
    "    url = str('https://api.themoviedb.org/3/search/movie?api_key=cc1ffc8a914b190fcb9a809741d325da&query=')+str(t)\n",
    "    a = requests.get(url)\n",
    "    try:\n",
    "        d = json.loads(a.text)['results'][0]\n",
    "        try:\n",
    "            original_title.append(d['original_title'])\n",
    "        except:\n",
    "            original_title.append('NaN')\n",
    "        try:\n",
    "            overview.append(d['overview'])\n",
    "        except:\n",
    "            overview.append('NaN')\n",
    "        try:\n",
    "            original_language.append(d['original_language'])\n",
    "        except:\n",
    "            original_language.append('NaN')\n",
    "        try:\n",
    "            release_date.append(d['release_date'])\n",
    "        except:\n",
    "            release_date.append('NaN')\n",
    "        try:\n",
    "            tagline.append(d['tagline'])\n",
    "        except:\n",
    "            tagline.append('NaN')\n",
    "        try:\n",
    "            movie_id.append(d['movie_id'])\n",
    "        except:\n",
    "            movie_id.append('NaN')\n",
    "        try:\n",
    "            popularity.append(d['popularity'])\n",
    "        except:\n",
    "            popularity.append('NaN')\n",
    "    except:\n",
    "        pass"
   ]
  },
  {
   "cell_type": "code",
   "execution_count": 11,
   "metadata": {},
   "outputs": [
    {
     "ename": "NameError",
     "evalue": "name 'original_title' is not defined",
     "output_type": "error",
     "traceback": [
      "\u001b[1;31m---------------------------------------------------------------------------\u001b[0m",
      "\u001b[1;31mNameError\u001b[0m                                 Traceback (most recent call last)",
      "\u001b[1;32m<ipython-input-11-c2fed71ebf56>\u001b[0m in \u001b[0;36m<module>\u001b[1;34m\u001b[0m\n\u001b[1;32m----> 1\u001b[1;33m collected_data = pd.DataFrame({'original_title':original_title, 'overview':overview,\n\u001b[0m\u001b[0;32m      2\u001b[0m                                \u001b[1;34m'original_language'\u001b[0m\u001b[1;33m:\u001b[0m\u001b[0moriginal_language\u001b[0m\u001b[1;33m,\u001b[0m \u001b[1;34m'release_date'\u001b[0m\u001b[1;33m:\u001b[0m\u001b[0mrelease_date\u001b[0m\u001b[1;33m,\u001b[0m \u001b[1;34m'tagline'\u001b[0m\u001b[1;33m:\u001b[0m\u001b[0mtagline\u001b[0m\u001b[1;33m,\u001b[0m\u001b[1;33m\u001b[0m\u001b[1;33m\u001b[0m\u001b[0m\n\u001b[0;32m      3\u001b[0m                                'movie_id':movie_id, 'popularity':popularity})\n\u001b[0;32m      4\u001b[0m \u001b[0mcollected_data\u001b[0m\u001b[1;33m.\u001b[0m\u001b[0mdrop_duplicates\u001b[0m\u001b[1;33m(\u001b[0m\u001b[0msubset\u001b[0m\u001b[1;33m=\u001b[0m\u001b[1;34m'original_title'\u001b[0m\u001b[1;33m,\u001b[0m \u001b[0minplace\u001b[0m\u001b[1;33m=\u001b[0m\u001b[1;32mTrue\u001b[0m\u001b[1;33m)\u001b[0m\u001b[1;33m\u001b[0m\u001b[1;33m\u001b[0m\u001b[0m\n\u001b[0;32m      5\u001b[0m \u001b[0mcollected_data\u001b[0m\u001b[1;33m.\u001b[0m\u001b[0mreset_index\u001b[0m\u001b[1;33m(\u001b[0m\u001b[0mdrop\u001b[0m\u001b[1;33m=\u001b[0m\u001b[1;32mTrue\u001b[0m\u001b[1;33m,\u001b[0m \u001b[0minplace\u001b[0m\u001b[1;33m=\u001b[0m\u001b[1;32mTrue\u001b[0m\u001b[1;33m)\u001b[0m\u001b[1;33m\u001b[0m\u001b[1;33m\u001b[0m\u001b[0m\n",
      "\u001b[1;31mNameError\u001b[0m: name 'original_title' is not defined"
     ]
    }
   ],
   "source": [
    "collected_data = pd.DataFrame({'original_title':original_title, 'overview':overview,\n",
    "                               'original_language':original_language, 'release_date':release_date, 'tagline':tagline,\n",
    "                               'movie_id':movie_id, 'popularity':popularity})\n",
    "collected_data.drop_duplicates(subset='original_title', inplace=True)\n",
    "collected_data.reset_index(drop=True, inplace=True)"
   ]
  },
  {
   "cell_type": "code",
   "execution_count": 71,
   "metadata": {},
   "outputs": [
    {
     "data": {
      "text/html": [
       "<div>\n",
       "<style scoped>\n",
       "    .dataframe tbody tr th:only-of-type {\n",
       "        vertical-align: middle;\n",
       "    }\n",
       "\n",
       "    .dataframe tbody tr th {\n",
       "        vertical-align: top;\n",
       "    }\n",
       "\n",
       "    .dataframe thead th {\n",
       "        text-align: right;\n",
       "    }\n",
       "</style>\n",
       "<table border=\"1\" class=\"dataframe\">\n",
       "  <thead>\n",
       "    <tr style=\"text-align: right;\">\n",
       "      <th></th>\n",
       "      <th>original_title</th>\n",
       "      <th>overview</th>\n",
       "      <th>original_language</th>\n",
       "      <th>release_date</th>\n",
       "      <th>tagline</th>\n",
       "      <th>movie_id</th>\n",
       "      <th>popularity</th>\n",
       "    </tr>\n",
       "  </thead>\n",
       "  <tbody>\n",
       "    <tr>\n",
       "      <th>4</th>\n",
       "      <td>Untitled Marvel Project (3)</td>\n",
       "      <td>Plot unknown.</td>\n",
       "      <td>en</td>\n",
       "      <td>2022-07-29</td>\n",
       "      <td>NaN</td>\n",
       "      <td>NaN</td>\n",
       "      <td>0.600</td>\n",
       "    </tr>\n",
       "    <tr>\n",
       "      <th>5</th>\n",
       "      <td>Untitled Disney Live Action Project</td>\n",
       "      <td>Plot unknown.</td>\n",
       "      <td>en</td>\n",
       "      <td>2023-02-17</td>\n",
       "      <td>NaN</td>\n",
       "      <td>NaN</td>\n",
       "      <td>0.600</td>\n",
       "    </tr>\n",
       "    <tr>\n",
       "      <th>80</th>\n",
       "      <td>Sherlock Holmes 3</td>\n",
       "      <td>Plot unknown.</td>\n",
       "      <td>en</td>\n",
       "      <td>2021-12-21</td>\n",
       "      <td>NaN</td>\n",
       "      <td>NaN</td>\n",
       "      <td>2.972</td>\n",
       "    </tr>\n",
       "    <tr>\n",
       "      <th>100</th>\n",
       "      <td>The Organ Donor</td>\n",
       "      <td>Plot unknown.</td>\n",
       "      <td>en</td>\n",
       "      <td>2020-05-15</td>\n",
       "      <td>NaN</td>\n",
       "      <td>NaN</td>\n",
       "      <td>0.959</td>\n",
       "    </tr>\n",
       "    <tr>\n",
       "      <th>403</th>\n",
       "      <td>Warkop DKI Reborn: Part 3</td>\n",
       "      <td>Plot unknown.</td>\n",
       "      <td>id</td>\n",
       "      <td>2019-09-12</td>\n",
       "      <td>NaN</td>\n",
       "      <td>NaN</td>\n",
       "      <td>3.303</td>\n",
       "    </tr>\n",
       "    <tr>\n",
       "      <th>1224</th>\n",
       "      <td>Lorong</td>\n",
       "      <td>Plot unknown.</td>\n",
       "      <td>id</td>\n",
       "      <td>2019-09-12</td>\n",
       "      <td>NaN</td>\n",
       "      <td>NaN</td>\n",
       "      <td>2.976</td>\n",
       "    </tr>\n",
       "    <tr>\n",
       "      <th>1597</th>\n",
       "      <td>Suwung</td>\n",
       "      <td>Plot unknown.</td>\n",
       "      <td>id</td>\n",
       "      <td>2019-07-18</td>\n",
       "      <td>NaN</td>\n",
       "      <td>NaN</td>\n",
       "      <td>0.600</td>\n",
       "    </tr>\n",
       "    <tr>\n",
       "      <th>2305</th>\n",
       "      <td>Ritual</td>\n",
       "      <td>Plot unknown.</td>\n",
       "      <td>id</td>\n",
       "      <td>2019-08-22</td>\n",
       "      <td>NaN</td>\n",
       "      <td>NaN</td>\n",
       "      <td>2.775</td>\n",
       "    </tr>\n",
       "    <tr>\n",
       "      <th>2431</th>\n",
       "      <td>Buya Hamka</td>\n",
       "      <td>Plot unknown.</td>\n",
       "      <td>id</td>\n",
       "      <td></td>\n",
       "      <td>NaN</td>\n",
       "      <td>NaN</td>\n",
       "      <td>0.600</td>\n",
       "    </tr>\n",
       "    <tr>\n",
       "      <th>4121</th>\n",
       "      <td>Susi Susanti: Love All</td>\n",
       "      <td>Plot unknown.</td>\n",
       "      <td>id</td>\n",
       "      <td>2019-10-24</td>\n",
       "      <td>NaN</td>\n",
       "      <td>NaN</td>\n",
       "      <td>1.571</td>\n",
       "    </tr>\n",
       "  </tbody>\n",
       "</table>\n",
       "</div>"
      ],
      "text/plain": [
       "                           original_title       overview original_language  \\\n",
       "4             Untitled Marvel Project (3)  Plot unknown.                en   \n",
       "5     Untitled Disney Live Action Project  Plot unknown.                en   \n",
       "80                      Sherlock Holmes 3  Plot unknown.                en   \n",
       "100                       The Organ Donor  Plot unknown.                en   \n",
       "403             Warkop DKI Reborn: Part 3  Plot unknown.                id   \n",
       "1224                               Lorong  Plot unknown.                id   \n",
       "1597                               Suwung  Plot unknown.                id   \n",
       "2305                               Ritual  Plot unknown.                id   \n",
       "2431                           Buya Hamka  Plot unknown.                id   \n",
       "4121               Susi Susanti: Love All  Plot unknown.                id   \n",
       "\n",
       "     release_date tagline movie_id  popularity  \n",
       "4      2022-07-29     NaN      NaN       0.600  \n",
       "5      2023-02-17     NaN      NaN       0.600  \n",
       "80     2021-12-21     NaN      NaN       2.972  \n",
       "100    2020-05-15     NaN      NaN       0.959  \n",
       "403    2019-09-12     NaN      NaN       3.303  \n",
       "1224   2019-09-12     NaN      NaN       2.976  \n",
       "1597   2019-07-18     NaN      NaN       0.600  \n",
       "2305   2019-08-22     NaN      NaN       2.775  \n",
       "2431                  NaN      NaN       0.600  \n",
       "4121   2019-10-24     NaN      NaN       1.571  "
      ]
     },
     "execution_count": 71,
     "metadata": {},
     "output_type": "execute_result"
    }
   ],
   "source": [
    "collected_data.drop(\"Plot unknown.\")"
   ]
  },
  {
   "cell_type": "code",
   "execution_count": 95,
   "metadata": {},
   "outputs": [
    {
     "data": {
      "text/plain": [
       "(6052596, 9)"
      ]
     },
     "execution_count": 95,
     "metadata": {},
     "output_type": "execute_result"
    }
   ],
   "source": [
    "df.shape"
   ]
  },
  {
   "cell_type": "code",
   "execution_count": null,
   "metadata": {},
   "outputs": [],
   "source": []
  },
  {
   "cell_type": "code",
   "execution_count": null,
   "metadata": {},
   "outputs": [],
   "source": []
  },
  {
   "cell_type": "code",
   "execution_count": 62,
   "metadata": {},
   "outputs": [],
   "source": [
    "from autocomplete import models"
   ]
  },
  {
   "cell_type": "code",
   "execution_count": 63,
   "metadata": {},
   "outputs": [],
   "source": [
    "import autocomplete"
   ]
  },
  {
   "cell_type": "code",
   "execution_count": 67,
   "metadata": {},
   "outputs": [
    {
     "name": "stdout",
     "output_type": "stream",
     "text": [
      "training!\n",
      "Error in opening pickle object. Training on default corpus text.\n",
      "saving to: C:\\Users\\pbren\\Anaconda3\\lib\\site-packages\\autocomplete\\models_compressed.pkl\n",
      "done training!\n"
     ]
    },
    {
     "data": {
      "text/plain": [
       "True"
      ]
     },
     "execution_count": 67,
     "metadata": {},
     "output_type": "execute_result"
    }
   ],
   "source": [
    "autocomplete.load()"
   ]
  },
  {
   "cell_type": "code",
   "execution_count": 77,
   "metadata": {},
   "outputs": [
    {
     "data": {
      "text/plain": [
       "[('furious', 5),\n",
       " ('fast', 3),\n",
       " ('fate', 2),\n",
       " ('future', 2),\n",
       " ('flies', 1),\n",
       " ('five', 1),\n",
       " ('first', 1),\n",
       " ('fugitive', 1),\n",
       " ('force', 1),\n",
       " ('final', 1)]"
      ]
     },
     "execution_count": 77,
     "metadata": {},
     "output_type": "execute_result"
    }
   ],
   "source": [
    "autocomplete.predict('the', 'f')"
   ]
  },
  {
   "cell_type": "code",
   "execution_count": 71,
   "metadata": {},
   "outputs": [],
   "source": [
    "titles = ' '.join(data.titles)"
   ]
  },
  {
   "cell_type": "code",
   "execution_count": 72,
   "metadata": {},
   "outputs": [
    {
     "name": "stdout",
     "output_type": "stream",
     "text": [
      "saving to: C:\\Users\\pbren\\Anaconda3\\lib\\site-packages\\autocomplete\\models_compressed.pkl\n"
     ]
    }
   ],
   "source": [
    "models.train_models(titles)"
   ]
  },
  {
   "cell_type": "code",
   "execution_count": 76,
   "metadata": {},
   "outputs": [
    {
     "name": "stdout",
     "output_type": "stream",
     "text": [
      "Star Wars: Return of the Jedi\n",
      "Harry Potter and the Sorcerer's Stone\n",
      "Harry Potter and the Philosopher's Stone\n",
      "The Treasure of the Sierra Madre\n",
      "Snow White & the Huntsman\n",
      "Lord of the Rings: The Two Towers\n",
      "Lord of the Flies\n",
      "Teenage Mutant Ninja Turtles II: The Secret of the Ooze\n",
      "Jumanji: Welcome To the Jungle\n",
      "Dr. Seuss' the Lorax\n",
      "The Girl With the Dragon Tattoo\n",
      "We're the Millers (2013)\n",
      "The Fate of the Furious\n",
      "Guardians of the Galaxy, Vol. 2\n",
      "Star Wars: Attack of the Clones\n",
      "Babe: Pig in the City\n",
      "Jack the Giant Slayer\n",
      "Pirates of the Caribbean: Dead Man's Chest\n",
      "Into the Storm (2014)\n",
      "Pirates of the Caribbean: At World's End\n",
      "On the Job\n",
      "The Fast and the Furious\n",
      "Back to the Future Part III\n",
      "Indiana Jones and the Temple of Doom\n",
      "The Assassination of Jesse James By the Coward Robert Ford\n",
      "Black Panther (2018)\n",
      "War of the Worlds (2005)\n",
      "The Lord of the Rings: The Return of the King (Extended Edition)\n",
      "Sicario: Day of the Soldado\n",
      "Ant-Man and the Wasp\n",
      "The Chronicles of Narnia: The Voyage of the Dawn Treader\n",
      "The Lord of the Rings: The Two Towers\n",
      "Harry Potter and the Half-Blood Prince\n",
      "Harry Potter and the Prisoner of Azkaban\n",
      "Harry Potter and the Chamber of Secrets\n",
      "Harry Potter and the Goblet of Fire\n",
      "Harry Potter and the Order of the Phoenix\n",
      "Harry Potter and the Deathly Hallows, Part 2\n",
      "Harry Potter and the Deathly Hallows, Part 1\n",
      "Ralph Breaks the Internet\n",
      "Jumanji: Welcome to the Jungle\n",
      "Guardians of the Galaxy\n",
      "Hunt for the Wilderpeople\n",
      "Rise of the Guardians\n",
      "The Chronicles of Narnia: The Lion, the Witch and the Wardrobe\n",
      "The Girl with the Dragon Tattoo\n",
      "The Other Guys\n",
      "Journey to the Center of the Earth (2008)\n",
      "Enemy of the State\n",
      "Rise of the Planet of the Apes\n",
      "Transformers: Dark of the Moon\n",
      "The Fate of the Furious\n",
      "Guardians of the Galaxy, Vol. 2\n",
      "Babe: Pig in the City\n",
      "War for the Planet of the Apes\n",
      "Kubo and the Two Strings\n",
      "Dawn of the Planet of the Apes\n",
      "Pirates of the Caribbean: The Curse of the Black Pearl\n",
      "Transformers: Revenge of the Fallen\n",
      "Jack the Giant Slayer\n",
      "The Fast and the Furious: Tokyo Drift\n",
      "The Lord of the Rings: The Fellowship of the Ring\n",
      "King Arthur: Legend of the Sword\n",
      "The Nutcracker and the Four Realms\n",
      "Die Another Day\n",
      "The Fast and the Furious\n",
      "Back to the Future Part III\n",
      "Alice Through the Looking Glass (2016)\n"
     ]
    }
   ],
   "source": [
    "for t in data.titles:\n",
    "    if 'the' in t:\n",
    "        print(t)"
   ]
  },
  {
   "cell_type": "code",
   "execution_count": 26,
   "metadata": {},
   "outputs": [],
   "source": [
    "from gensim.models import Word2Vec, KeyedVectors"
   ]
  },
  {
   "cell_type": "code",
   "execution_count": 12,
   "metadata": {},
   "outputs": [],
   "source": [
    "model = KeyedVectors.load_word2vec_format('GoogleNews-vectors-negative300.bin.gz', binary=True)"
   ]
  },
  {
   "cell_type": "code",
   "execution_count": 20,
   "metadata": {},
   "outputs": [],
   "source": [
    "import torch\n",
    "from pytorch_transformers import RobertaModel, RobertaConfig"
   ]
  },
  {
   "cell_type": "code",
   "execution_count": 23,
   "metadata": {},
   "outputs": [
    {
     "name": "stderr",
     "output_type": "stream",
     "text": [
      "100%|██████████████████████████████████████████████████████████████████████████████| 473/473 [00:00<00:00, 47171.83B/s]\n",
      "100%|███████████████████████████████████████████████████████████████| 501200538/501200538 [01:15<00:00, 12051570.86B/s]\n"
     ]
    }
   ],
   "source": [
    "roberta = RobertaModel.from_pretrained('roberta-base')"
   ]
  },
  {
   "cell_type": "code",
   "execution_count": 25,
   "metadata": {},
   "outputs": [
    {
     "ename": "ModuleNotFoundError",
     "evalue": "No module named 'pyemd'",
     "output_type": "error",
     "traceback": [
      "\u001b[1;31m---------------------------------------------------------------------------\u001b[0m",
      "\u001b[1;31mModuleNotFoundError\u001b[0m                       Traceback (most recent call last)",
      "\u001b[1;32m<ipython-input-25-4e3c060dd86e>\u001b[0m in \u001b[0;36m<module>\u001b[1;34m\u001b[0m\n\u001b[1;32m----> 1\u001b[1;33m \u001b[0mmodel\u001b[0m\u001b[1;33m.\u001b[0m\u001b[0mwmdistance\u001b[0m\u001b[1;33m(\u001b[0m\u001b[1;34m'I love men'\u001b[0m\u001b[1;33m,\u001b[0m \u001b[1;34m'I am gay'\u001b[0m\u001b[1;33m)\u001b[0m\u001b[1;33m\u001b[0m\u001b[1;33m\u001b[0m\u001b[0m\n\u001b[0m",
      "\u001b[1;32m~\\Anaconda3\\lib\\site-packages\\gensim\\models\\keyedvectors.py\u001b[0m in \u001b[0;36mwmdistance\u001b[1;34m(self, document1, document2)\u001b[0m\n\u001b[0;32m    702\u001b[0m         \u001b[1;31m# If pyemd C extension is available, import it.\u001b[0m\u001b[1;33m\u001b[0m\u001b[1;33m\u001b[0m\u001b[1;33m\u001b[0m\u001b[0m\n\u001b[0;32m    703\u001b[0m         \u001b[1;31m# If pyemd is attempted to be used, but isn't installed, ImportError will be raised in wmdistance\u001b[0m\u001b[1;33m\u001b[0m\u001b[1;33m\u001b[0m\u001b[1;33m\u001b[0m\u001b[0m\n\u001b[1;32m--> 704\u001b[1;33m         \u001b[1;32mfrom\u001b[0m \u001b[0mpyemd\u001b[0m \u001b[1;32mimport\u001b[0m \u001b[0memd\u001b[0m\u001b[1;33m\u001b[0m\u001b[1;33m\u001b[0m\u001b[0m\n\u001b[0m\u001b[0;32m    705\u001b[0m \u001b[1;33m\u001b[0m\u001b[0m\n\u001b[0;32m    706\u001b[0m         \u001b[1;31m# Remove out-of-vocabulary words.\u001b[0m\u001b[1;33m\u001b[0m\u001b[1;33m\u001b[0m\u001b[1;33m\u001b[0m\u001b[0m\n",
      "\u001b[1;31mModuleNotFoundError\u001b[0m: No module named 'pyemd'"
     ]
    }
   ],
   "source": [
    "model.wmdistance('I love men', 'I am gay')"
   ]
  }
 ],
 "metadata": {
  "kernelspec": {
   "display_name": "Python 3",
   "language": "python",
   "name": "python3"
  },
  "language_info": {
   "codemirror_mode": {
    "name": "ipython",
    "version": 3
   },
   "file_extension": ".py",
   "mimetype": "text/x-python",
   "name": "python",
   "nbconvert_exporter": "python",
   "pygments_lexer": "ipython3",
   "version": "3.6.7"
  }
 },
 "nbformat": 4,
 "nbformat_minor": 2
}
